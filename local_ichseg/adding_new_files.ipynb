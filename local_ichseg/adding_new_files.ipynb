{
 "cells": [
  {
   "cell_type": "code",
   "execution_count": 57,
   "id": "a15f3629",
   "metadata": {},
   "outputs": [],
   "source": [
    "import pandas as pd\n",
    "import numpy as np\n",
    "import os"
   ]
  },
  {
   "cell_type": "code",
   "execution_count": 58,
   "id": "e7cc9e93",
   "metadata": {},
   "outputs": [],
   "source": [
    "org_file = pd.read_csv('/Users/rushil/ichseg/synthstrip/annotations_synth.csv')\n",
    "more_file = pd.read_csv('/Users/rushil/ichseg/synthstrip/annotations_synth_more.csv')\n",
    "\n",
    "org_file = pd.DataFrame(org_file)\n",
    "more_file = pd.DataFrame(more_file)"
   ]
  },
  {
   "cell_type": "code",
   "execution_count": 59,
   "id": "d5db1d77",
   "metadata": {},
   "outputs": [
    {
     "name": "stdout",
     "output_type": "stream",
     "text": [
      "Number of files in original file: 4941\n"
     ]
    }
   ],
   "source": [
    "directory = '/Users/rushil/ichseg/synthstrip/image_ss_synth'\n",
    "dir_filenames = set(os.listdir(directory))\n",
    "filtered_org_file = org_file[org_file['Filename'].isin(dir_filenames)]\n",
    "print(\"Number of files in original file:\", len(filtered_org_file))\n",
    "\n"
   ]
  },
  {
   "cell_type": "code",
   "execution_count": 60,
   "id": "4c230486",
   "metadata": {},
   "outputs": [
    {
     "name": "stdout",
     "output_type": "stream",
     "text": [
      "5109\n"
     ]
    }
   ],
   "source": [
    "combined_df = pd.concat([filtered_org_file, more_file], ignore_index=True)\n",
    "print(len(combined_df))"
   ]
  },
  {
   "cell_type": "code",
   "execution_count": 61,
   "id": "ba9eb969",
   "metadata": {},
   "outputs": [],
   "source": [
    "output_file = '/Users/rushil/ichseg/synthstrip/annotations_synth_combined.csv'\n",
    "combined_df.to_csv(output_file, index=False)"
   ]
  },
  {
   "cell_type": "code",
   "execution_count": 41,
   "id": "ef2f92d7",
   "metadata": {},
   "outputs": [],
   "source": [
    "org_file = pd.read_csv('/Users/rushil/ichseg/HD_CTBET/annotations_hdctbet.csv')\n",
    "more_file = pd.read_csv('/Users/rushil/ichseg/HD_CTBET/annotations_hdctbet_more.csv')\n",
    "\n",
    "org_file = pd.DataFrame(org_file)\n",
    "more_file = pd.DataFrame(more_file)"
   ]
  },
  {
   "cell_type": "code",
   "execution_count": 42,
   "id": "52802e61",
   "metadata": {},
   "outputs": [
    {
     "name": "stdout",
     "output_type": "stream",
     "text": [
      "Number of files in original file: 5069\n"
     ]
    }
   ],
   "source": [
    "directory = '/Users/rushil/ichseg/HD_CTBET/image_ss_hdctbet'\n",
    "dir_filenames = set(os.listdir(directory))\n",
    "filtered_org_file = org_file[org_file['Filename'].isin(dir_filenames)]\n",
    "print(\"Number of files in original file:\", len(filtered_org_file))"
   ]
  },
  {
   "cell_type": "code",
   "execution_count": 43,
   "id": "6b05e7e3",
   "metadata": {},
   "outputs": [
    {
     "name": "stdout",
     "output_type": "stream",
     "text": [
      "5109\n"
     ]
    }
   ],
   "source": [
    "combined_df = pd.concat([filtered_org_file, more_file], ignore_index=True)\n",
    "print(len(combined_df))"
   ]
  },
  {
   "cell_type": "code",
   "execution_count": 44,
   "id": "26d30379",
   "metadata": {},
   "outputs": [],
   "source": [
    "output_file = '/Users/rushil/ichseg/HD_CTBET/annotations_hdctbet_combined.csv'\n",
    "combined_df.to_csv(output_file, index=False)"
   ]
  },
  {
   "cell_type": "code",
   "execution_count": 46,
   "id": "bcd4819b",
   "metadata": {},
   "outputs": [
    {
     "name": "stdout",
     "output_type": "stream",
     "text": [
      "Common filenames:\n",
      "6\n"
     ]
    }
   ],
   "source": [
    "dir1 = '/Users/rushil/ichseg/robust/image_ss_robust'\n",
    "dir2 = '/Users/rushil/ichseg/robust/image_ss_robust_more'\n",
    "\n",
    "files1 = set(os.listdir(dir1))\n",
    "files2 = set(os.listdir(dir2))\n",
    "\n",
    "common_files = files1.intersection(files2)\n",
    "print(\"Common filenames:\")\n",
    "print(len(common_files))"
   ]
  },
  {
   "cell_type": "code",
   "execution_count": 47,
   "id": "5d6fe503",
   "metadata": {},
   "outputs": [
    {
     "name": "stdout",
     "output_type": "stream",
     "text": [
      "PDF saved to common_images_side_by_side.pdf\n"
     ]
    }
   ],
   "source": [
    "import os\n",
    "from PIL import Image\n",
    "import matplotlib.pyplot as plt\n",
    "from matplotlib.backends.backend_pdf import PdfPages\n",
    "\n",
    "dir1 = '/Users/rushil/ichseg/robust/image_ss_robust'\n",
    "dir2 = '/Users/rushil/ichseg/robust/image_ss_robust_more'\n",
    "\n",
    "files1 = set(os.listdir(dir1))\n",
    "files2 = set(os.listdir(dir2))\n",
    "common_files = files1.intersection(files2)\n",
    "\n",
    "pdf_path = 'common_images_side_by_side.pdf'\n",
    "with PdfPages(pdf_path) as pdf:\n",
    "    for fname in sorted(common_files):\n",
    "        fig, axes = plt.subplots(1, 2, figsize=(8, 4))\n",
    "        # Left image\n",
    "        img1 = Image.open(os.path.join(dir1, fname))\n",
    "        axes[0].imshow(img1, cmap='gray')\n",
    "        axes[0].set_title(os.path.basename(dir1))\n",
    "        axes[0].axis('off')\n",
    "        # Right image\n",
    "        img2 = Image.open(os.path.join(dir2, fname))\n",
    "        axes[1].imshow(img2, cmap='gray')\n",
    "        axes[1].set_title(os.path.basename(dir2))\n",
    "        axes[1].axis('off')\n",
    "        # Main title\n",
    "        fig.suptitle(fname)\n",
    "        pdf.savefig(fig)\n",
    "        plt.close(fig)\n",
    "\n",
    "print(f\"PDF saved to {pdf_path}\")"
   ]
  },
  {
   "cell_type": "code",
   "execution_count": 48,
   "id": "59d6dd89",
   "metadata": {},
   "outputs": [
    {
     "name": "stdout",
     "output_type": "stream",
     "text": [
      "Deleted: /Users/rushil/ichseg/robust/image_ss_robust_more/6122-325_20150306_2233_ct.png\n",
      "Deleted: /Users/rushil/ichseg/robust/image_ss_robust_more/6232-266_20151214_0954_ct.png\n",
      "Deleted: /Users/rushil/ichseg/robust/image_ss_robust_more/6288-292_20160305_0922_ct.png\n",
      "Deleted: /Users/rushil/ichseg/robust/image_ss_robust_more/6027-100_20140504_1527_ct.png\n",
      "Deleted: /Users/rushil/ichseg/robust/image_ss_robust_more/6118-324_20150301_1500_ct.png\n",
      "Deleted: /Users/rushil/ichseg/robust/image_ss_robust_more/6288-292_20160304_1250_ct.png\n"
     ]
    }
   ],
   "source": [
    "import os\n",
    "\n",
    "dir2 = '/Users/rushil/ichseg/robust/image_ss_robust_more'\n",
    "\n",
    "# Remove common files from dir2\n",
    "for fname in common_files:\n",
    "    file_path = os.path.join(dir2, fname)\n",
    "    if os.path.exists(file_path):\n",
    "        os.remove(file_path)\n",
    "        print(f\"Deleted: {file_path}\")"
   ]
  },
  {
   "cell_type": "code",
   "execution_count": 52,
   "id": "610705cd",
   "metadata": {},
   "outputs": [],
   "source": [
    "org_file = pd.read_csv('/Users/rushil/ichseg/robust/annotations_up.csv')\n",
    "more_file = pd.read_csv('/Users/rushil/ichseg/robust/image_ss_robust_more.csv')\n",
    "\n",
    "org_file = pd.DataFrame(org_file)\n",
    "more_file = pd.DataFrame(more_file)"
   ]
  },
  {
   "cell_type": "code",
   "execution_count": 54,
   "id": "e2f3bba3",
   "metadata": {},
   "outputs": [
    {
     "name": "stdout",
     "output_type": "stream",
     "text": [
      "Number of files in original file: 5015\n"
     ]
    }
   ],
   "source": [
    "directory = '/Users/rushil/ichseg/robust/image_ss_robust'\n",
    "dir_filenames = set(os.listdir(directory))\n",
    "filtered_org_file = org_file[org_file['Filename'].isin(dir_filenames)]\n",
    "print(\"Number of files in original file:\", len(filtered_org_file))\n",
    "\n"
   ]
  },
  {
   "cell_type": "code",
   "execution_count": 55,
   "id": "69c1839e",
   "metadata": {},
   "outputs": [
    {
     "name": "stdout",
     "output_type": "stream",
     "text": [
      "5109\n"
     ]
    }
   ],
   "source": [
    "combined_df = pd.concat([filtered_org_file, more_file], ignore_index=True)\n",
    "print(len(combined_df))"
   ]
  },
  {
   "cell_type": "code",
   "execution_count": 62,
   "id": "1b8c349e",
   "metadata": {},
   "outputs": [],
   "source": [
    "output_file = '/Users/rushil/ichseg/robust/annotations_robust_combined.csv'\n",
    "combined_df.to_csv(output_file, index=False)"
   ]
  },
  {
   "cell_type": "code",
   "execution_count": null,
   "id": "2c84b30b",
   "metadata": {},
   "outputs": [],
   "source": []
  }
 ],
 "metadata": {
  "kernelspec": {
   "display_name": "rush_env",
   "language": "python",
   "name": "python3"
  },
  "language_info": {
   "codemirror_mode": {
    "name": "ipython",
    "version": 3
   },
   "file_extension": ".py",
   "mimetype": "text/x-python",
   "name": "python",
   "nbconvert_exporter": "python",
   "pygments_lexer": "ipython3",
   "version": "3.8.18"
  }
 },
 "nbformat": 4,
 "nbformat_minor": 5
}
